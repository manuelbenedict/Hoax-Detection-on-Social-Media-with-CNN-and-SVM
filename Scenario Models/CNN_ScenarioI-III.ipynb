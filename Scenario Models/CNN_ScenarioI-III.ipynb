{
 "cells": [
  {
   "cell_type": "markdown",
   "id": "ed0afe34",
   "metadata": {},
   "source": [
    "## Importing Data"
   ]
  },
  {
   "cell_type": "code",
   "execution_count": 1,
   "id": "55306ba9",
   "metadata": {},
   "outputs": [],
   "source": [
    "import matplotlib.pyplot as plt\n",
    "import numpy as np\n",
    "import pandas as pd\n",
    "import seaborn as sn\n",
    "import sklearn\n",
    "\n",
    "from keras.models import Sequential\n",
    "from keras.layers import Conv1D, Dense, Dropout, Flatten, Input, MaxPooling1D, SpatialDropout1D, Embedding\n",
    "from tensorflow.keras.preprocessing.sequence import pad_sequences\n",
    "from keras.preprocessing.text import Tokenizer\n",
    "from sklearn import model_selection\n",
    "from sklearn.feature_extraction.text import TfidfVectorizer\n",
    "from sklearn.metrics import classification_report, confusion_matrix"
   ]
  },
  {
   "cell_type": "markdown",
   "id": "e6c78b4e",
   "metadata": {},
   "source": [
    "## Loading Data"
   ]
  },
  {
   "cell_type": "code",
   "execution_count": 2,
   "id": "ceac2d04",
   "metadata": {},
   "outputs": [
    {
     "data": {
      "text/html": [
       "<div>\n",
       "<style scoped>\n",
       "    .dataframe tbody tr th:only-of-type {\n",
       "        vertical-align: middle;\n",
       "    }\n",
       "\n",
       "    .dataframe tbody tr th {\n",
       "        vertical-align: top;\n",
       "    }\n",
       "\n",
       "    .dataframe thead th {\n",
       "        text-align: right;\n",
       "    }\n",
       "</style>\n",
       "<table border=\"1\" class=\"dataframe\">\n",
       "  <thead>\n",
       "    <tr style=\"text-align: right;\">\n",
       "      <th></th>\n",
       "      <th>Unnamed: 0.1</th>\n",
       "      <th>Unnamed: 0</th>\n",
       "      <th>Datetime</th>\n",
       "      <th>Tweet Id</th>\n",
       "      <th>Topik</th>\n",
       "      <th>Text</th>\n",
       "      <th>Label 1</th>\n",
       "      <th>Label 2</th>\n",
       "      <th>Label 3</th>\n",
       "      <th>LabelFinal</th>\n",
       "      <th>...</th>\n",
       "      <th>DisplayName</th>\n",
       "      <th>Location</th>\n",
       "      <th>Followers</th>\n",
       "      <th>Following</th>\n",
       "      <th>Verified</th>\n",
       "      <th>Retweet</th>\n",
       "      <th>Language</th>\n",
       "      <th>Media</th>\n",
       "      <th>Description</th>\n",
       "      <th>ProfileImage</th>\n",
       "    </tr>\n",
       "  </thead>\n",
       "  <tbody>\n",
       "    <tr>\n",
       "      <th>0</th>\n",
       "      <td>0</td>\n",
       "      <td>1957</td>\n",
       "      <td>2022-10-25 17:25:21+00:00</td>\n",
       "      <td>1584959311804973056</td>\n",
       "      <td>Kanjuruhan</td>\n",
       "      <td>kejat jatim tunjuk jpu tangan perkara tragedi ...</td>\n",
       "      <td>0</td>\n",
       "      <td>0</td>\n",
       "      <td>0</td>\n",
       "      <td>0</td>\n",
       "      <td>...</td>\n",
       "      <td>CNN Indonesia</td>\n",
       "      <td>NaN</td>\n",
       "      <td>3163686</td>\n",
       "      <td>13</td>\n",
       "      <td>True</td>\n",
       "      <td>2</td>\n",
       "      <td>in</td>\n",
       "      <td>NaN</td>\n",
       "      <td>News We Can Trust.\\nredaksi@cnnindonesia.com |...</td>\n",
       "      <td>https://pbs.twimg.com/profile_images/669793728...</td>\n",
       "    </tr>\n",
       "    <tr>\n",
       "      <th>1</th>\n",
       "      <td>1</td>\n",
       "      <td>1959</td>\n",
       "      <td>2022-10-25 17:23:49+00:00</td>\n",
       "      <td>1584958926029671936</td>\n",
       "      <td>Kanjuruhan</td>\n",
       "      <td>dikysoemarno cuekin aja tum kalo yg teriak car...</td>\n",
       "      <td>0</td>\n",
       "      <td>0</td>\n",
       "      <td>0</td>\n",
       "      <td>0</td>\n",
       "      <td>...</td>\n",
       "      <td>Adiputrosk</td>\n",
       "      <td>NaN</td>\n",
       "      <td>5</td>\n",
       "      <td>129</td>\n",
       "      <td>False</td>\n",
       "      <td>0</td>\n",
       "      <td>in</td>\n",
       "      <td>NaN</td>\n",
       "      <td>NaN</td>\n",
       "      <td>https://abs.twimg.com/sticky/default_profile_i...</td>\n",
       "    </tr>\n",
       "    <tr>\n",
       "      <th>2</th>\n",
       "      <td>2</td>\n",
       "      <td>1960</td>\n",
       "      <td>2022-10-25 17:16:12+00:00</td>\n",
       "      <td>1584957007760530944</td>\n",
       "      <td>Kanjuruhan</td>\n",
       "      <td>belum nyata sikap yg dri tuntut mula smgt lipa...</td>\n",
       "      <td>0</td>\n",
       "      <td>0</td>\n",
       "      <td>0</td>\n",
       "      <td>0</td>\n",
       "      <td>...</td>\n",
       "      <td>Elmo Towel</td>\n",
       "      <td>sario</td>\n",
       "      <td>85</td>\n",
       "      <td>80</td>\n",
       "      <td>False</td>\n",
       "      <td>0</td>\n",
       "      <td>in</td>\n",
       "      <td>[Photo(previewUrl='https://pbs.twimg.com/media...</td>\n",
       "      <td>NaN</td>\n",
       "      <td>https://pbs.twimg.com/profile_images/158000019...</td>\n",
       "    </tr>\n",
       "    <tr>\n",
       "      <th>3</th>\n",
       "      <td>3</td>\n",
       "      <td>1961</td>\n",
       "      <td>2022-10-25 17:05:58+00:00</td>\n",
       "      <td>1584954431631544064</td>\n",
       "      <td>Kanjuruhan</td>\n",
       "      <td>listyosigitp berapa gas air mata yang kalian t...</td>\n",
       "      <td>0</td>\n",
       "      <td>0</td>\n",
       "      <td>0</td>\n",
       "      <td>0</td>\n",
       "      <td>...</td>\n",
       "      <td>billy</td>\n",
       "      <td>bekz</td>\n",
       "      <td>1026</td>\n",
       "      <td>1948</td>\n",
       "      <td>False</td>\n",
       "      <td>0</td>\n",
       "      <td>in</td>\n",
       "      <td>NaN</td>\n",
       "      <td>#usuttuntas</td>\n",
       "      <td>https://pbs.twimg.com/profile_images/158241748...</td>\n",
       "    </tr>\n",
       "    <tr>\n",
       "      <th>4</th>\n",
       "      <td>4</td>\n",
       "      <td>1962</td>\n",
       "      <td>2022-10-25 17:00:51+00:00</td>\n",
       "      <td>1584953144194129920</td>\n",
       "      <td>Kanjuruhan</td>\n",
       "      <td>bodo susup usut km harun mas kanjuruhan fs fak...</td>\n",
       "      <td>0</td>\n",
       "      <td>0</td>\n",
       "      <td>0</td>\n",
       "      <td>0</td>\n",
       "      <td>...</td>\n",
       "      <td>🇮🇩Raden Baragajul🇯🇴</td>\n",
       "      <td>NaN</td>\n",
       "      <td>427</td>\n",
       "      <td>937</td>\n",
       "      <td>False</td>\n",
       "      <td>0</td>\n",
       "      <td>in</td>\n",
       "      <td>NaN</td>\n",
       "      <td>Komen kasar, menghina, langsung blok, RAS! no ...</td>\n",
       "      <td>https://pbs.twimg.com/profile_images/139309733...</td>\n",
       "    </tr>\n",
       "  </tbody>\n",
       "</table>\n",
       "<p>5 rows × 21 columns</p>\n",
       "</div>"
      ],
      "text/plain": [
       "   Unnamed: 0.1  Unnamed: 0                   Datetime             Tweet Id  \\\n",
       "0             0        1957  2022-10-25 17:25:21+00:00  1584959311804973056   \n",
       "1             1        1959  2022-10-25 17:23:49+00:00  1584958926029671936   \n",
       "2             2        1960  2022-10-25 17:16:12+00:00  1584957007760530944   \n",
       "3             3        1961  2022-10-25 17:05:58+00:00  1584954431631544064   \n",
       "4             4        1962  2022-10-25 17:00:51+00:00  1584953144194129920   \n",
       "\n",
       "        Topik                                               Text  Label 1  \\\n",
       "0  Kanjuruhan  kejat jatim tunjuk jpu tangan perkara tragedi ...        0   \n",
       "1  Kanjuruhan  dikysoemarno cuekin aja tum kalo yg teriak car...        0   \n",
       "2  Kanjuruhan  belum nyata sikap yg dri tuntut mula smgt lipa...        0   \n",
       "3  Kanjuruhan  listyosigitp berapa gas air mata yang kalian t...        0   \n",
       "4  Kanjuruhan  bodo susup usut km harun mas kanjuruhan fs fak...        0   \n",
       "\n",
       "   Label 2  Label 3  LabelFinal  ...          DisplayName Location Followers  \\\n",
       "0        0        0           0  ...        CNN Indonesia      NaN   3163686   \n",
       "1        0        0           0  ...           Adiputrosk      NaN         5   \n",
       "2        0        0           0  ...           Elmo Towel    sario        85   \n",
       "3        0        0           0  ...                billy     bekz      1026   \n",
       "4        0        0           0  ...  🇮🇩Raden Baragajul🇯🇴      NaN       427   \n",
       "\n",
       "   Following  Verified  Retweet  Language  \\\n",
       "0         13      True        2        in   \n",
       "1        129     False        0        in   \n",
       "2         80     False        0        in   \n",
       "3       1948     False        0        in   \n",
       "4        937     False        0        in   \n",
       "\n",
       "                                               Media  \\\n",
       "0                                                NaN   \n",
       "1                                                NaN   \n",
       "2  [Photo(previewUrl='https://pbs.twimg.com/media...   \n",
       "3                                                NaN   \n",
       "4                                                NaN   \n",
       "\n",
       "                                         Description  \\\n",
       "0  News We Can Trust.\\nredaksi@cnnindonesia.com |...   \n",
       "1                                                NaN   \n",
       "2                                                NaN   \n",
       "3                                        #usuttuntas   \n",
       "4  Komen kasar, menghina, langsung blok, RAS! no ...   \n",
       "\n",
       "                                        ProfileImage  \n",
       "0  https://pbs.twimg.com/profile_images/669793728...  \n",
       "1  https://abs.twimg.com/sticky/default_profile_i...  \n",
       "2  https://pbs.twimg.com/profile_images/158000019...  \n",
       "3  https://pbs.twimg.com/profile_images/158241748...  \n",
       "4  https://pbs.twimg.com/profile_images/139309733...  \n",
       "\n",
       "[5 rows x 21 columns]"
      ]
     },
     "execution_count": 2,
     "metadata": {},
     "output_type": "execute_result"
    }
   ],
   "source": [
    "df = pd.read_excel('dataset_FINAL_afterPreprocessing.xlsx')\n",
    "df.head()"
   ]
  },
  {
   "cell_type": "markdown",
   "id": "a4e46a17",
   "metadata": {},
   "source": [
    "## Splitting Data"
   ]
  },
  {
   "cell_type": "code",
   "execution_count": 3,
   "id": "63207a1e",
   "metadata": {},
   "outputs": [],
   "source": [
    "#TEST SIZE IN SCENARIO I\n",
    "    #0.1 for 90% data train and 10% data test\n",
    "    #0.2 for 80% data train and 20% data test\n",
    "    #0.3 for 70% data train and 30% data test\n",
    "train_x, test_x, train_y, test_y = model_selection.train_test_split(df['Text'], df['LabelFinal'] ,test_size=0.1)"
   ]
  },
  {
   "cell_type": "markdown",
   "id": "d2ece466",
   "metadata": {},
   "source": [
    "## TF-IDF (Unigram)"
   ]
  },
  {
   "cell_type": "code",
   "execution_count": 4,
   "id": "2b428c59",
   "metadata": {},
   "outputs": [],
   "source": [
    "#N-GRAM RANGE IN SCENARIOS\n",
    "    #(1,1) unigram for Scenario I as baseline\n",
    "    #(2,2) bigram for Scenario II\n",
    "    #(3,3) trigram for Scenario II\n",
    "    #(1,2) unigram + bigram for Scenario III\n",
    "    #(1,3) unigram + bigram + trigram for Scenario III\n",
    "vectorizer = TfidfVectorizer(min_df=5, max_df=0.7, ngram_range = (1,1))\n",
    "vectorizer = vectorizer.fit(df['Text'])\n",
    "tfidf_train = vectorizer.transform(train_x).astype('float64').toarray()\n",
    "tfidf_test = vectorizer.transform(test_x).astype('float64').toarray()\n",
    "tf_len = len(vectorizer.vocabulary_)"
   ]
  },
  {
   "cell_type": "code",
   "execution_count": 5,
   "id": "b37e4034",
   "metadata": {},
   "outputs": [
    {
     "data": {
      "text/plain": [
       "array([[[0.],\n",
       "        [0.],\n",
       "        [0.],\n",
       "        ...,\n",
       "        [0.],\n",
       "        [0.],\n",
       "        [0.]],\n",
       "\n",
       "       [[0.],\n",
       "        [0.],\n",
       "        [0.],\n",
       "        ...,\n",
       "        [0.],\n",
       "        [0.],\n",
       "        [0.]],\n",
       "\n",
       "       [[0.],\n",
       "        [0.],\n",
       "        [0.],\n",
       "        ...,\n",
       "        [0.],\n",
       "        [0.],\n",
       "        [0.]],\n",
       "\n",
       "       ...,\n",
       "\n",
       "       [[0.],\n",
       "        [0.],\n",
       "        [0.],\n",
       "        ...,\n",
       "        [0.],\n",
       "        [0.],\n",
       "        [0.]],\n",
       "\n",
       "       [[0.],\n",
       "        [0.],\n",
       "        [0.],\n",
       "        ...,\n",
       "        [0.],\n",
       "        [0.],\n",
       "        [0.]],\n",
       "\n",
       "       [[0.],\n",
       "        [0.],\n",
       "        [0.],\n",
       "        ...,\n",
       "        [0.],\n",
       "        [0.],\n",
       "        [0.]]])"
      ]
     },
     "execution_count": 5,
     "metadata": {},
     "output_type": "execute_result"
    }
   ],
   "source": [
    "tfidf_train.reshape(tfidf_train.shape[0], tfidf_train.shape[1],1)"
   ]
  },
  {
   "cell_type": "code",
   "execution_count": 6,
   "id": "985d0599",
   "metadata": {},
   "outputs": [
    {
     "data": {
      "text/plain": [
       "5657"
      ]
     },
     "execution_count": 6,
     "metadata": {},
     "output_type": "execute_result"
    }
   ],
   "source": [
    "tf_len"
   ]
  },
  {
   "cell_type": "markdown",
   "id": "f6aae23b",
   "metadata": {},
   "source": [
    "## Modelling (CNN)"
   ]
  },
  {
   "cell_type": "code",
   "execution_count": 7,
   "id": "b8e1a287",
   "metadata": {},
   "outputs": [],
   "source": [
    "model = Sequential()\n",
    "model.add(Input(shape=(tf_len, 1)))\n",
    "model.add(SpatialDropout1D(0.3))\n",
    "model.add(Conv1D(filters=50, kernel_size=5, activation='relu'))\n",
    "model.add(Dropout(0.5))\n",
    "model.add(Conv1D(filters=15, kernel_size=5, activation='relu'))\n",
    "model.add(Dropout(0.5))\n",
    "model.add(MaxPooling1D(pool_size=2))\n",
    "model.add(Flatten())\n",
    "model.add(Dense(1, activation=\"sigmoid\"))\n",
    "\n",
    "model.compile(optimizer='adam', loss='binary_crossentropy', metrics=['accuracy'])"
   ]
  },
  {
   "cell_type": "code",
   "execution_count": 8,
   "id": "b7f17f9f",
   "metadata": {},
   "outputs": [
    {
     "name": "stdout",
     "output_type": "stream",
     "text": [
      "Epoch 1/5\n",
      "713/713 [==============================] - 277s 384ms/step - loss: 0.4034 - accuracy: 0.7775\n",
      "Epoch 2/5\n",
      "713/713 [==============================] - 275s 385ms/step - loss: 0.3332 - accuracy: 0.8085\n",
      "Epoch 3/5\n",
      "713/713 [==============================] - 272s 381ms/step - loss: 0.3223 - accuracy: 0.8113\n",
      "Epoch 4/5\n",
      "713/713 [==============================] - 279s 392ms/step - loss: 0.3145 - accuracy: 0.8115\n",
      "Epoch 5/5\n",
      "713/713 [==============================] - 288s 404ms/step - loss: 0.3045 - accuracy: 0.8191\n"
     ]
    },
    {
     "data": {
      "text/plain": [
       "<keras.callbacks.History at 0x21398cf2ee0>"
      ]
     },
     "execution_count": 8,
     "metadata": {},
     "output_type": "execute_result"
    }
   ],
   "source": [
    "model.fit(tfidf_train, train_y, epochs=5)"
   ]
  },
  {
   "cell_type": "code",
   "execution_count": 9,
   "id": "5ab48e72",
   "metadata": {},
   "outputs": [
    {
     "name": "stdout",
     "output_type": "stream",
     "text": [
      "80/80 [==============================] - 7s 78ms/step\n"
     ]
    }
   ],
   "source": [
    "predictions = model.predict(tfidf_test)"
   ]
  },
  {
   "cell_type": "markdown",
   "id": "6c7de16a",
   "metadata": {},
   "source": [
    "## Report"
   ]
  },
  {
   "cell_type": "code",
   "execution_count": 10,
   "id": "1e094c75",
   "metadata": {},
   "outputs": [
    {
     "data": {
      "image/png": "[encoded data removed]",
      "text/plain": [
       "<Figure size 640x480 with 2 Axes>"
      ]
     },
     "metadata": {},
     "output_type": "display_data"
    }
   ],
   "source": [
    "def plot_confussion_matrix(y_test, y_pred):\n",
    "    cm = confusion_matrix(y_test, y_pred)\n",
    "    df_cm = pd.DataFrame(cm, range(cm.shape[0]),\n",
    "                  range(cm.shape[1]))\n",
    "    sn.set(font_scale=1.4)\n",
    "    sn.heatmap(df_cm, annot=True,fmt='.0f',annot_kws={\"size\": 10})# font size\n",
    "    plt.show()\n",
    "\n",
    "plot_confussion_matrix(test_y, predictions.round())"
   ]
  },
  {
   "cell_type": "code",
   "execution_count": 11,
   "id": "8a3e3492",
   "metadata": {},
   "outputs": [
    {
     "name": "stdout",
     "output_type": "stream",
     "text": [
      "              precision    recall  f1-score   support\n",
      "\n",
      "           0   0.934387  0.951691  0.942960      1242\n",
      "           1   0.952681  0.935709  0.944119      1291\n",
      "\n",
      "    accuracy                       0.943545      2533\n",
      "   macro avg   0.943534  0.943700  0.943539      2533\n",
      "weighted avg   0.943711  0.943545  0.943550      2533\n",
      "\n"
     ]
    }
   ],
   "source": [
    "print(classification_report(test_y, predictions.round(), digits=6))"
   ]
  },
  {
   "cell_type": "code",
   "execution_count": null,
   "id": "617b421c",
   "metadata": {},
   "outputs": [],
   "source": []
  }
 ],
 "metadata": {
  "kernelspec": {
   "display_name": "Python 3 (ipykernel)",
   "language": "python",
   "name": "python3"
  },
  "language_info": {
   "codemirror_mode": {
    "name": "ipython",
    "version": 3
   },
   "file_extension": ".py",
   "mimetype": "text/x-python",
   "name": "python",
   "nbconvert_exporter": "python",
   "pygments_lexer": "ipython3",
   "version": "3.9.13"
  }
 },
 "nbformat": 4,
 "nbformat_minor": 5
}
