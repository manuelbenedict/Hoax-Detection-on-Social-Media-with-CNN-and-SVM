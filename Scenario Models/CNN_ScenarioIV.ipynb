{
 "cells": [
  {
   "cell_type": "code",
   "execution_count": 1,
   "metadata": {
    "colab": {
     "base_uri": "https://localhost:8080/"
    },
    "id": "R4xUx-s1jUFl",
    "outputId": "a9d1ab8c-abab-4b21-fef0-3d9838c8058a"
   },
   "outputs": [],
   "source": [
    "import matplotlib.pyplot as plt\n",
    "import numpy as np\n",
    "import pandas as pd\n",
    "import seaborn as sn\n",
    "import sklearn\n",
    "\n",
    "# from google.colab import drive\n",
    "# drive.mount('/content/drive/', force_remount=True)\n",
    "\n",
    "from keras.models import Sequential\n",
    "from keras.layers import Conv1D, Dense, Dropout, Flatten, Input, MaxPooling1D, SpatialDropout1D, Embedding\n",
    "from tensorflow.keras.preprocessing.sequence import pad_sequences\n",
    "from keras.preprocessing.text import Tokenizer\n",
    "from sklearn import model_selection\n",
    "from sklearn.feature_extraction.text import TfidfVectorizer\n",
    "from sklearn.metrics import classification_report, confusion_matrix"
   ]
  },
  {
   "cell_type": "code",
   "execution_count": 2,
   "metadata": {
    "id": "zogzRfyEjtIw"
   },
   "outputs": [],
   "source": [
    "df_label = pd.read_excel(\"dataset_FINAL_afterPreprocessing.xlsx\")\n",
    "df_label = df_label['LabelFinal']"
   ]
  },
  {
   "cell_type": "code",
   "execution_count": 3,
   "metadata": {
    "colab": {
     "base_uri": "https://localhost:8080/",
     "height": 423
    },
    "id": "jPOZtH_3nzAn",
    "outputId": "fb0d4a90-d4ca-4f6c-fb22-e8fa77607ecd"
   },
   "outputs": [
    {
     "data": {
      "text/html": [
       "<div>\n",
       "<style scoped>\n",
       "    .dataframe tbody tr th:only-of-type {\n",
       "        vertical-align: middle;\n",
       "    }\n",
       "\n",
       "    .dataframe tbody tr th {\n",
       "        vertical-align: top;\n",
       "    }\n",
       "\n",
       "    .dataframe thead th {\n",
       "        text-align: right;\n",
       "    }\n",
       "</style>\n",
       "<table border=\"1\" class=\"dataframe\">\n",
       "  <thead>\n",
       "    <tr style=\"text-align: right;\">\n",
       "      <th></th>\n",
       "      <th>aamiin</th>\n",
       "      <th>abai</th>\n",
       "      <th>abang</th>\n",
       "      <th>abdi</th>\n",
       "      <th>abdul</th>\n",
       "      <th>abis</th>\n",
       "      <th>abu</th>\n",
       "      <th>abu waras</th>\n",
       "      <th>abur</th>\n",
       "      <th>abuse</th>\n",
       "      <th>...</th>\n",
       "      <th>zhico</th>\n",
       "      <th>zina</th>\n",
       "      <th>zoelfick</th>\n",
       "      <th>zon</th>\n",
       "      <th>zrn</th>\n",
       "      <th>zulfiarrahman</th>\n",
       "      <th>zulkiflilubis</th>\n",
       "      <th>zumhana</th>\n",
       "      <th>zusen</th>\n",
       "      <th>zusen tahan</th>\n",
       "    </tr>\n",
       "  </thead>\n",
       "  <tbody>\n",
       "    <tr>\n",
       "      <th>0</th>\n",
       "      <td>0.0</td>\n",
       "      <td>0.0</td>\n",
       "      <td>0.0</td>\n",
       "      <td>0.0</td>\n",
       "      <td>0.0</td>\n",
       "      <td>0.0</td>\n",
       "      <td>0.0</td>\n",
       "      <td>0.0</td>\n",
       "      <td>0.0</td>\n",
       "      <td>0.0</td>\n",
       "      <td>...</td>\n",
       "      <td>0.0</td>\n",
       "      <td>0.0</td>\n",
       "      <td>0.0</td>\n",
       "      <td>0.0</td>\n",
       "      <td>0.0</td>\n",
       "      <td>0.0</td>\n",
       "      <td>0.0</td>\n",
       "      <td>0.0</td>\n",
       "      <td>0.0</td>\n",
       "      <td>0.0</td>\n",
       "    </tr>\n",
       "    <tr>\n",
       "      <th>1</th>\n",
       "      <td>0.0</td>\n",
       "      <td>0.0</td>\n",
       "      <td>0.0</td>\n",
       "      <td>0.0</td>\n",
       "      <td>0.0</td>\n",
       "      <td>0.0</td>\n",
       "      <td>0.0</td>\n",
       "      <td>0.0</td>\n",
       "      <td>0.0</td>\n",
       "      <td>0.0</td>\n",
       "      <td>...</td>\n",
       "      <td>0.0</td>\n",
       "      <td>0.0</td>\n",
       "      <td>0.0</td>\n",
       "      <td>0.0</td>\n",
       "      <td>0.0</td>\n",
       "      <td>0.0</td>\n",
       "      <td>0.0</td>\n",
       "      <td>0.0</td>\n",
       "      <td>0.0</td>\n",
       "      <td>0.0</td>\n",
       "    </tr>\n",
       "    <tr>\n",
       "      <th>2</th>\n",
       "      <td>0.0</td>\n",
       "      <td>0.0</td>\n",
       "      <td>0.0</td>\n",
       "      <td>0.0</td>\n",
       "      <td>0.0</td>\n",
       "      <td>0.0</td>\n",
       "      <td>0.0</td>\n",
       "      <td>0.0</td>\n",
       "      <td>0.0</td>\n",
       "      <td>0.0</td>\n",
       "      <td>...</td>\n",
       "      <td>0.0</td>\n",
       "      <td>0.0</td>\n",
       "      <td>0.0</td>\n",
       "      <td>0.0</td>\n",
       "      <td>0.0</td>\n",
       "      <td>0.0</td>\n",
       "      <td>0.0</td>\n",
       "      <td>0.0</td>\n",
       "      <td>0.0</td>\n",
       "      <td>0.0</td>\n",
       "    </tr>\n",
       "    <tr>\n",
       "      <th>3</th>\n",
       "      <td>0.0</td>\n",
       "      <td>0.0</td>\n",
       "      <td>0.0</td>\n",
       "      <td>0.0</td>\n",
       "      <td>0.0</td>\n",
       "      <td>0.0</td>\n",
       "      <td>0.0</td>\n",
       "      <td>0.0</td>\n",
       "      <td>0.0</td>\n",
       "      <td>0.0</td>\n",
       "      <td>...</td>\n",
       "      <td>0.0</td>\n",
       "      <td>0.0</td>\n",
       "      <td>0.0</td>\n",
       "      <td>0.0</td>\n",
       "      <td>0.0</td>\n",
       "      <td>0.0</td>\n",
       "      <td>0.0</td>\n",
       "      <td>0.0</td>\n",
       "      <td>0.0</td>\n",
       "      <td>0.0</td>\n",
       "    </tr>\n",
       "    <tr>\n",
       "      <th>4</th>\n",
       "      <td>0.0</td>\n",
       "      <td>0.0</td>\n",
       "      <td>0.0</td>\n",
       "      <td>0.0</td>\n",
       "      <td>0.0</td>\n",
       "      <td>0.0</td>\n",
       "      <td>0.0</td>\n",
       "      <td>0.0</td>\n",
       "      <td>0.0</td>\n",
       "      <td>0.0</td>\n",
       "      <td>...</td>\n",
       "      <td>0.0</td>\n",
       "      <td>0.0</td>\n",
       "      <td>0.0</td>\n",
       "      <td>0.0</td>\n",
       "      <td>0.0</td>\n",
       "      <td>0.0</td>\n",
       "      <td>0.0</td>\n",
       "      <td>0.0</td>\n",
       "      <td>0.0</td>\n",
       "      <td>0.0</td>\n",
       "    </tr>\n",
       "    <tr>\n",
       "      <th>...</th>\n",
       "      <td>...</td>\n",
       "      <td>...</td>\n",
       "      <td>...</td>\n",
       "      <td>...</td>\n",
       "      <td>...</td>\n",
       "      <td>...</td>\n",
       "      <td>...</td>\n",
       "      <td>...</td>\n",
       "      <td>...</td>\n",
       "      <td>...</td>\n",
       "      <td>...</td>\n",
       "      <td>...</td>\n",
       "      <td>...</td>\n",
       "      <td>...</td>\n",
       "      <td>...</td>\n",
       "      <td>...</td>\n",
       "      <td>...</td>\n",
       "      <td>...</td>\n",
       "      <td>...</td>\n",
       "      <td>...</td>\n",
       "      <td>...</td>\n",
       "    </tr>\n",
       "    <tr>\n",
       "      <th>25320</th>\n",
       "      <td>0.0</td>\n",
       "      <td>0.0</td>\n",
       "      <td>0.0</td>\n",
       "      <td>0.0</td>\n",
       "      <td>0.0</td>\n",
       "      <td>0.0</td>\n",
       "      <td>0.0</td>\n",
       "      <td>0.0</td>\n",
       "      <td>0.0</td>\n",
       "      <td>0.0</td>\n",
       "      <td>...</td>\n",
       "      <td>0.0</td>\n",
       "      <td>0.0</td>\n",
       "      <td>0.0</td>\n",
       "      <td>0.0</td>\n",
       "      <td>0.0</td>\n",
       "      <td>0.0</td>\n",
       "      <td>0.0</td>\n",
       "      <td>0.0</td>\n",
       "      <td>0.0</td>\n",
       "      <td>0.0</td>\n",
       "    </tr>\n",
       "    <tr>\n",
       "      <th>25321</th>\n",
       "      <td>0.0</td>\n",
       "      <td>0.0</td>\n",
       "      <td>0.0</td>\n",
       "      <td>0.0</td>\n",
       "      <td>0.0</td>\n",
       "      <td>0.0</td>\n",
       "      <td>0.0</td>\n",
       "      <td>0.0</td>\n",
       "      <td>0.0</td>\n",
       "      <td>0.0</td>\n",
       "      <td>...</td>\n",
       "      <td>0.0</td>\n",
       "      <td>0.0</td>\n",
       "      <td>0.0</td>\n",
       "      <td>0.0</td>\n",
       "      <td>0.0</td>\n",
       "      <td>0.0</td>\n",
       "      <td>0.0</td>\n",
       "      <td>0.0</td>\n",
       "      <td>0.0</td>\n",
       "      <td>0.0</td>\n",
       "    </tr>\n",
       "    <tr>\n",
       "      <th>25322</th>\n",
       "      <td>0.0</td>\n",
       "      <td>0.0</td>\n",
       "      <td>0.0</td>\n",
       "      <td>0.0</td>\n",
       "      <td>0.0</td>\n",
       "      <td>0.0</td>\n",
       "      <td>0.0</td>\n",
       "      <td>0.0</td>\n",
       "      <td>0.0</td>\n",
       "      <td>0.0</td>\n",
       "      <td>...</td>\n",
       "      <td>0.0</td>\n",
       "      <td>0.0</td>\n",
       "      <td>0.0</td>\n",
       "      <td>0.0</td>\n",
       "      <td>0.0</td>\n",
       "      <td>0.0</td>\n",
       "      <td>0.0</td>\n",
       "      <td>0.0</td>\n",
       "      <td>0.0</td>\n",
       "      <td>0.0</td>\n",
       "    </tr>\n",
       "    <tr>\n",
       "      <th>25323</th>\n",
       "      <td>0.0</td>\n",
       "      <td>0.0</td>\n",
       "      <td>0.0</td>\n",
       "      <td>0.0</td>\n",
       "      <td>0.0</td>\n",
       "      <td>0.0</td>\n",
       "      <td>0.0</td>\n",
       "      <td>0.0</td>\n",
       "      <td>0.0</td>\n",
       "      <td>0.0</td>\n",
       "      <td>...</td>\n",
       "      <td>0.0</td>\n",
       "      <td>0.0</td>\n",
       "      <td>0.0</td>\n",
       "      <td>0.0</td>\n",
       "      <td>0.0</td>\n",
       "      <td>0.0</td>\n",
       "      <td>0.0</td>\n",
       "      <td>0.0</td>\n",
       "      <td>0.0</td>\n",
       "      <td>0.0</td>\n",
       "    </tr>\n",
       "    <tr>\n",
       "      <th>25324</th>\n",
       "      <td>0.0</td>\n",
       "      <td>0.0</td>\n",
       "      <td>0.0</td>\n",
       "      <td>0.0</td>\n",
       "      <td>0.0</td>\n",
       "      <td>0.0</td>\n",
       "      <td>0.0</td>\n",
       "      <td>0.0</td>\n",
       "      <td>0.0</td>\n",
       "      <td>0.0</td>\n",
       "      <td>...</td>\n",
       "      <td>0.0</td>\n",
       "      <td>0.0</td>\n",
       "      <td>0.0</td>\n",
       "      <td>0.0</td>\n",
       "      <td>0.0</td>\n",
       "      <td>0.0</td>\n",
       "      <td>0.0</td>\n",
       "      <td>0.0</td>\n",
       "      <td>0.0</td>\n",
       "      <td>0.0</td>\n",
       "    </tr>\n",
       "  </tbody>\n",
       "</table>\n",
       "<p>25325 rows × 10000 columns</p>\n",
       "</div>"
      ],
      "text/plain": [
       "       aamiin  abai  abang  abdi  abdul  abis  abu  abu waras  abur  abuse  \\\n",
       "0         0.0   0.0    0.0   0.0    0.0   0.0  0.0        0.0   0.0    0.0   \n",
       "1         0.0   0.0    0.0   0.0    0.0   0.0  0.0        0.0   0.0    0.0   \n",
       "2         0.0   0.0    0.0   0.0    0.0   0.0  0.0        0.0   0.0    0.0   \n",
       "3         0.0   0.0    0.0   0.0    0.0   0.0  0.0        0.0   0.0    0.0   \n",
       "4         0.0   0.0    0.0   0.0    0.0   0.0  0.0        0.0   0.0    0.0   \n",
       "...       ...   ...    ...   ...    ...   ...  ...        ...   ...    ...   \n",
       "25320     0.0   0.0    0.0   0.0    0.0   0.0  0.0        0.0   0.0    0.0   \n",
       "25321     0.0   0.0    0.0   0.0    0.0   0.0  0.0        0.0   0.0    0.0   \n",
       "25322     0.0   0.0    0.0   0.0    0.0   0.0  0.0        0.0   0.0    0.0   \n",
       "25323     0.0   0.0    0.0   0.0    0.0   0.0  0.0        0.0   0.0    0.0   \n",
       "25324     0.0   0.0    0.0   0.0    0.0   0.0  0.0        0.0   0.0    0.0   \n",
       "\n",
       "       ...  zhico  zina  zoelfick  zon  zrn  zulfiarrahman  zulkiflilubis  \\\n",
       "0      ...    0.0   0.0       0.0  0.0  0.0            0.0            0.0   \n",
       "1      ...    0.0   0.0       0.0  0.0  0.0            0.0            0.0   \n",
       "2      ...    0.0   0.0       0.0  0.0  0.0            0.0            0.0   \n",
       "3      ...    0.0   0.0       0.0  0.0  0.0            0.0            0.0   \n",
       "4      ...    0.0   0.0       0.0  0.0  0.0            0.0            0.0   \n",
       "...    ...    ...   ...       ...  ...  ...            ...            ...   \n",
       "25320  ...    0.0   0.0       0.0  0.0  0.0            0.0            0.0   \n",
       "25321  ...    0.0   0.0       0.0  0.0  0.0            0.0            0.0   \n",
       "25322  ...    0.0   0.0       0.0  0.0  0.0            0.0            0.0   \n",
       "25323  ...    0.0   0.0       0.0  0.0  0.0            0.0            0.0   \n",
       "25324  ...    0.0   0.0       0.0  0.0  0.0            0.0            0.0   \n",
       "\n",
       "       zumhana  zusen  zusen tahan  \n",
       "0          0.0    0.0          0.0  \n",
       "1          0.0    0.0          0.0  \n",
       "2          0.0    0.0          0.0  \n",
       "3          0.0    0.0          0.0  \n",
       "4          0.0    0.0          0.0  \n",
       "...        ...    ...          ...  \n",
       "25320      0.0    0.0          0.0  \n",
       "25321      0.0    0.0          0.0  \n",
       "25322      0.0    0.0          0.0  \n",
       "25323      0.0    0.0          0.0  \n",
       "25324      0.0    0.0          0.0  \n",
       "\n",
       "[25325 rows x 10000 columns]"
      ]
     },
     "execution_count": 3,
     "metadata": {},
     "output_type": "execute_result"
    }
   ],
   "source": [
    "#SIMILARITY TOP AND CORPUS IN SCENARIO IV\n",
    "    #Corpus: Tweet and Tweet + Berita\n",
    "    #Top: 1, 5, 10\n",
    "    #Continue with similarity top 15 and 20 and Tweet + Berita Corpus only\n",
    "df_tfidf = pd.read_csv(\"fe_TFIDF_df_top1_tweet.csv\")\n",
    "df_tfidf.drop('Unnamed: 0', axis=1, inplace=True)\n",
    "df_tfidf"
   ]
  },
  {
   "cell_type": "code",
   "execution_count": 5,
   "metadata": {
    "id": "QL7-1RP0-Ajd"
   },
   "outputs": [],
   "source": [
    "df = pd.read_excel(\"dataset_FINAL_afterPreprocessing.xlsx\")\n",
    "vectorizer = TfidfVectorizer(ngram_range = (1,2), max_features=10000)\n",
    "vectorizer = vectorizer.fit(df['Text'])\n",
    "\n",
    "tf_len = len(vectorizer.vocabulary_)"
   ]
  },
  {
   "cell_type": "code",
   "execution_count": 22,
   "metadata": {
    "id": "GgjA_EnBoN0K"
   },
   "outputs": [],
   "source": [
    "train_x, test_x, train_y, test_y = model_selection.train_test_split(df_tfidf, df_label, test_size=0.1)"
   ]
  },
  {
   "cell_type": "code",
   "execution_count": 23,
   "metadata": {
    "id": "sxf94iqCfujM"
   },
   "outputs": [],
   "source": [
    "train_x = np.array(train_x).reshape(train_x.shape[0], train_x.shape[1], 1)\n",
    "test_x = np.array(test_x).reshape(test_x.shape[0], test_x.shape[1], 1)"
   ]
  },
  {
   "cell_type": "code",
   "execution_count": 24,
   "metadata": {
    "id": "K-ke7QCmoffw"
   },
   "outputs": [],
   "source": [
    "model = Sequential()\n",
    "model.add(Input(shape=(tf_len, 1)))\n",
    "model.add(SpatialDropout1D(0.3))\n",
    "model.add(Conv1D(filters=50, kernel_size=5, activation='relu'))\n",
    "model.add(Dropout(0.5))\n",
    "model.add(Conv1D(filters=15, kernel_size=5, activation='relu'))\n",
    "model.add(Dropout(0.5))\n",
    "model.add(MaxPooling1D(pool_size=2))\n",
    "model.add(Flatten())\n",
    "model.add(Dense(1, activation=\"sigmoid\"))\n",
    "\n",
    "model.compile(optimizer='adam', loss='binary_crossentropy', metrics=['accuracy'])"
   ]
  },
  {
   "cell_type": "code",
   "execution_count": 25,
   "metadata": {
    "colab": {
     "base_uri": "https://localhost:8080/",
     "height": 345
    },
    "id": "NLUUzILx8_Eu",
    "outputId": "3f32e19b-320e-4f7a-cb9c-702acfabe48c"
   },
   "outputs": [
    {
     "name": "stdout",
     "output_type": "stream",
     "text": [
      "Epoch 1/5\n",
      "713/713 [==============================] - 916s 1s/step - loss: 0.3746 - accuracy: 0.7858\n",
      "Epoch 2/5\n",
      "713/713 [==============================] - 902s 1s/step - loss: 0.3138 - accuracy: 0.8090\n",
      "Epoch 3/5\n",
      "713/713 [==============================] - 611s 857ms/step - loss: 0.2926 - accuracy: 0.8195\n",
      "Epoch 4/5\n",
      "713/713 [==============================] - 552s 773ms/step - loss: 0.2840 - accuracy: 0.8234\n",
      "Epoch 5/5\n",
      "713/713 [==============================] - 692s 971ms/step - loss: 0.2777 - accuracy: 0.8213\n"
     ]
    },
    {
     "data": {
      "text/plain": [
       "<keras.callbacks.History at 0x1cb070e28e0>"
      ]
     },
     "execution_count": 25,
     "metadata": {},
     "output_type": "execute_result"
    }
   ],
   "source": [
    "model.fit(train_x, train_y, epochs=5)"
   ]
  },
  {
   "cell_type": "code",
   "execution_count": 26,
   "metadata": {
    "id": "mrvwrZziohsy"
   },
   "outputs": [
    {
     "name": "stdout",
     "output_type": "stream",
     "text": [
      "80/80 [==============================] - 16s 177ms/step\n"
     ]
    }
   ],
   "source": [
    "predictions = model.predict(test_x)"
   ]
  },
  {
   "cell_type": "code",
   "execution_count": 27,
   "metadata": {
    "id": "oNW-lKxMt9zs"
   },
   "outputs": [
    {
     "data": {
      "image/png": "[encoded data removed]",
      "text/plain": [
       "<Figure size 640x480 with 2 Axes>"
      ]
     },
     "metadata": {},
     "output_type": "display_data"
    }
   ],
   "source": [
    "def plot_confussion_matrix(y_test, y_pred):\n",
    "    cm = confusion_matrix(y_test, y_pred)\n",
    "    df_cm = pd.DataFrame(cm, range(cm.shape[0]),\n",
    "                  range(cm.shape[1]))\n",
    "    sn.set(font_scale=1.4)\n",
    "    sn.heatmap(df_cm, annot=True,fmt='.0f',annot_kws={\"size\": 10})# font size\n",
    "    plt.show()\n",
    "\n",
    "plot_confussion_matrix(test_y, predictions.round())"
   ]
  },
  {
   "cell_type": "code",
   "execution_count": 28,
   "metadata": {
    "id": "4FPEEzXPuATH"
   },
   "outputs": [
    {
     "name": "stdout",
     "output_type": "stream",
     "text": [
      "              precision    recall  f1-score   support\n",
      "\n",
      "           0   0.936205  0.945607  0.940883      1195\n",
      "           1   0.950980  0.942451  0.946697      1338\n",
      "\n",
      "    accuracy                       0.943940      2533\n",
      "   macro avg   0.943593  0.944029  0.943790      2533\n",
      "weighted avg   0.944010  0.943940  0.943954      2533\n",
      "\n"
     ]
    }
   ],
   "source": [
    "print(classification_report(test_y, predictions.round(), digits=6))"
   ]
  },
  {
   "cell_type": "code",
   "execution_count": null,
   "metadata": {},
   "outputs": [],
   "source": []
  }
 ],
 "metadata": {
  "colab": {
   "provenance": []
  },
  "kernelspec": {
   "display_name": "Python 3 (ipykernel)",
   "language": "python",
   "name": "python3"
  },
  "language_info": {
   "codemirror_mode": {
    "name": "ipython",
    "version": 3
   },
   "file_extension": ".py",
   "mimetype": "text/x-python",
   "name": "python",
   "nbconvert_exporter": "python",
   "pygments_lexer": "ipython3",
   "version": "3.9.13"
  }
 },
 "nbformat": 4,
 "nbformat_minor": 1
}
