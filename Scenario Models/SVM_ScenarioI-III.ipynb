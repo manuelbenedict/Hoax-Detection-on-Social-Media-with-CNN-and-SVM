{
 "cells": [
  {
   "cell_type": "markdown",
   "metadata": {
    "id": "0-wo_OX-ZN6p"
   },
   "source": [
    "## Importing Library"
   ]
  },
  {
   "cell_type": "code",
   "execution_count": 1,
   "metadata": {
    "id": "rpLppOB2Yrsp"
   },
   "outputs": [],
   "source": [
    "import matplotlib.pyplot as plt\n",
    "import pandas as pd\n",
    "import seaborn as sn\n",
    "\n",
    "from sklearn import model_selection\n",
    "from sklearn.feature_extraction.text import TfidfVectorizer \n",
    "from sklearn.metrics import confusion_matrix, classification_report\n",
    "from sklearn.svm import SVC"
   ]
  },
  {
   "cell_type": "markdown",
   "metadata": {
    "id": "YSBp0Ie0-MRe"
   },
   "source": [
    "## Loading Data"
   ]
  },
  {
   "cell_type": "code",
   "execution_count": 2,
   "metadata": {
    "colab": {
     "base_uri": "https://localhost:8080/",
     "height": 1000
    },
    "id": "wv0rxHgA5MRm",
    "outputId": "c534c6da-a8a9-435a-84b3-ec0af107bf09"
   },
   "outputs": [
    {
     "data": {
      "text/html": [
       "<div>\n",
       "<style scoped>\n",
       "    .dataframe tbody tr th:only-of-type {\n",
       "        vertical-align: middle;\n",
       "    }\n",
       "\n",
       "    .dataframe tbody tr th {\n",
       "        vertical-align: top;\n",
       "    }\n",
       "\n",
       "    .dataframe thead th {\n",
       "        text-align: right;\n",
       "    }\n",
       "</style>\n",
       "<table border=\"1\" class=\"dataframe\">\n",
       "  <thead>\n",
       "    <tr style=\"text-align: right;\">\n",
       "      <th></th>\n",
       "      <th>Unnamed: 0.1</th>\n",
       "      <th>Unnamed: 0</th>\n",
       "      <th>Datetime</th>\n",
       "      <th>Tweet Id</th>\n",
       "      <th>Topik</th>\n",
       "      <th>Text</th>\n",
       "      <th>Label 1</th>\n",
       "      <th>Label 2</th>\n",
       "      <th>Label 3</th>\n",
       "      <th>LabelFinal</th>\n",
       "      <th>...</th>\n",
       "      <th>DisplayName</th>\n",
       "      <th>Location</th>\n",
       "      <th>Followers</th>\n",
       "      <th>Following</th>\n",
       "      <th>Verified</th>\n",
       "      <th>Retweet</th>\n",
       "      <th>Language</th>\n",
       "      <th>Media</th>\n",
       "      <th>Description</th>\n",
       "      <th>ProfileImage</th>\n",
       "    </tr>\n",
       "  </thead>\n",
       "  <tbody>\n",
       "    <tr>\n",
       "      <th>0</th>\n",
       "      <td>0</td>\n",
       "      <td>1957</td>\n",
       "      <td>2022-10-25 17:25:21+00:00</td>\n",
       "      <td>1584959311804973056</td>\n",
       "      <td>Kanjuruhan</td>\n",
       "      <td>kejat jatim tunjuk jpu tangan perkara tragedi ...</td>\n",
       "      <td>0</td>\n",
       "      <td>0</td>\n",
       "      <td>0</td>\n",
       "      <td>0</td>\n",
       "      <td>...</td>\n",
       "      <td>CNN Indonesia</td>\n",
       "      <td>NaN</td>\n",
       "      <td>3163686</td>\n",
       "      <td>13</td>\n",
       "      <td>True</td>\n",
       "      <td>2</td>\n",
       "      <td>in</td>\n",
       "      <td>NaN</td>\n",
       "      <td>News We Can Trust.\\nredaksi@cnnindonesia.com |...</td>\n",
       "      <td>https://pbs.twimg.com/profile_images/669793728...</td>\n",
       "    </tr>\n",
       "    <tr>\n",
       "      <th>1</th>\n",
       "      <td>1</td>\n",
       "      <td>1959</td>\n",
       "      <td>2022-10-25 17:23:49+00:00</td>\n",
       "      <td>1584958926029671936</td>\n",
       "      <td>Kanjuruhan</td>\n",
       "      <td>dikysoemarno cuekin aja tum kalo yg teriak car...</td>\n",
       "      <td>0</td>\n",
       "      <td>0</td>\n",
       "      <td>0</td>\n",
       "      <td>0</td>\n",
       "      <td>...</td>\n",
       "      <td>Adiputrosk</td>\n",
       "      <td>NaN</td>\n",
       "      <td>5</td>\n",
       "      <td>129</td>\n",
       "      <td>False</td>\n",
       "      <td>0</td>\n",
       "      <td>in</td>\n",
       "      <td>NaN</td>\n",
       "      <td>NaN</td>\n",
       "      <td>https://abs.twimg.com/sticky/default_profile_i...</td>\n",
       "    </tr>\n",
       "    <tr>\n",
       "      <th>2</th>\n",
       "      <td>2</td>\n",
       "      <td>1960</td>\n",
       "      <td>2022-10-25 17:16:12+00:00</td>\n",
       "      <td>1584957007760530944</td>\n",
       "      <td>Kanjuruhan</td>\n",
       "      <td>belum nyata sikap yg dri tuntut mula smgt lipa...</td>\n",
       "      <td>0</td>\n",
       "      <td>0</td>\n",
       "      <td>0</td>\n",
       "      <td>0</td>\n",
       "      <td>...</td>\n",
       "      <td>Elmo Towel</td>\n",
       "      <td>sario</td>\n",
       "      <td>85</td>\n",
       "      <td>80</td>\n",
       "      <td>False</td>\n",
       "      <td>0</td>\n",
       "      <td>in</td>\n",
       "      <td>[Photo(previewUrl='https://pbs.twimg.com/media...</td>\n",
       "      <td>NaN</td>\n",
       "      <td>https://pbs.twimg.com/profile_images/158000019...</td>\n",
       "    </tr>\n",
       "    <tr>\n",
       "      <th>3</th>\n",
       "      <td>3</td>\n",
       "      <td>1961</td>\n",
       "      <td>2022-10-25 17:05:58+00:00</td>\n",
       "      <td>1584954431631544064</td>\n",
       "      <td>Kanjuruhan</td>\n",
       "      <td>listyosigitp berapa gas air mata yang kalian t...</td>\n",
       "      <td>0</td>\n",
       "      <td>0</td>\n",
       "      <td>0</td>\n",
       "      <td>0</td>\n",
       "      <td>...</td>\n",
       "      <td>billy</td>\n",
       "      <td>bekz</td>\n",
       "      <td>1026</td>\n",
       "      <td>1948</td>\n",
       "      <td>False</td>\n",
       "      <td>0</td>\n",
       "      <td>in</td>\n",
       "      <td>NaN</td>\n",
       "      <td>#usuttuntas</td>\n",
       "      <td>https://pbs.twimg.com/profile_images/158241748...</td>\n",
       "    </tr>\n",
       "    <tr>\n",
       "      <th>4</th>\n",
       "      <td>4</td>\n",
       "      <td>1962</td>\n",
       "      <td>2022-10-25 17:00:51+00:00</td>\n",
       "      <td>1584953144194129920</td>\n",
       "      <td>Kanjuruhan</td>\n",
       "      <td>bodo susup usut km harun mas kanjuruhan fs fak...</td>\n",
       "      <td>0</td>\n",
       "      <td>0</td>\n",
       "      <td>0</td>\n",
       "      <td>0</td>\n",
       "      <td>...</td>\n",
       "      <td>🇮🇩Raden Baragajul🇯🇴</td>\n",
       "      <td>NaN</td>\n",
       "      <td>427</td>\n",
       "      <td>937</td>\n",
       "      <td>False</td>\n",
       "      <td>0</td>\n",
       "      <td>in</td>\n",
       "      <td>NaN</td>\n",
       "      <td>Komen kasar, menghina, langsung blok, RAS! no ...</td>\n",
       "      <td>https://pbs.twimg.com/profile_images/139309733...</td>\n",
       "    </tr>\n",
       "  </tbody>\n",
       "</table>\n",
       "<p>5 rows × 21 columns</p>\n",
       "</div>"
      ],
      "text/plain": [
       "   Unnamed: 0.1  Unnamed: 0                   Datetime             Tweet Id  \\\n",
       "0             0        1957  2022-10-25 17:25:21+00:00  1584959311804973056   \n",
       "1             1        1959  2022-10-25 17:23:49+00:00  1584958926029671936   \n",
       "2             2        1960  2022-10-25 17:16:12+00:00  1584957007760530944   \n",
       "3             3        1961  2022-10-25 17:05:58+00:00  1584954431631544064   \n",
       "4             4        1962  2022-10-25 17:00:51+00:00  1584953144194129920   \n",
       "\n",
       "        Topik                                               Text  Label 1  \\\n",
       "0  Kanjuruhan  kejat jatim tunjuk jpu tangan perkara tragedi ...        0   \n",
       "1  Kanjuruhan  dikysoemarno cuekin aja tum kalo yg teriak car...        0   \n",
       "2  Kanjuruhan  belum nyata sikap yg dri tuntut mula smgt lipa...        0   \n",
       "3  Kanjuruhan  listyosigitp berapa gas air mata yang kalian t...        0   \n",
       "4  Kanjuruhan  bodo susup usut km harun mas kanjuruhan fs fak...        0   \n",
       "\n",
       "   Label 2  Label 3  LabelFinal  ...          DisplayName Location Followers  \\\n",
       "0        0        0           0  ...        CNN Indonesia      NaN   3163686   \n",
       "1        0        0           0  ...           Adiputrosk      NaN         5   \n",
       "2        0        0           0  ...           Elmo Towel    sario        85   \n",
       "3        0        0           0  ...                billy     bekz      1026   \n",
       "4        0        0           0  ...  🇮🇩Raden Baragajul🇯🇴      NaN       427   \n",
       "\n",
       "   Following  Verified  Retweet  Language  \\\n",
       "0         13      True        2        in   \n",
       "1        129     False        0        in   \n",
       "2         80     False        0        in   \n",
       "3       1948     False        0        in   \n",
       "4        937     False        0        in   \n",
       "\n",
       "                                               Media  \\\n",
       "0                                                NaN   \n",
       "1                                                NaN   \n",
       "2  [Photo(previewUrl='https://pbs.twimg.com/media...   \n",
       "3                                                NaN   \n",
       "4                                                NaN   \n",
       "\n",
       "                                         Description  \\\n",
       "0  News We Can Trust.\\nredaksi@cnnindonesia.com |...   \n",
       "1                                                NaN   \n",
       "2                                                NaN   \n",
       "3                                        #usuttuntas   \n",
       "4  Komen kasar, menghina, langsung blok, RAS! no ...   \n",
       "\n",
       "                                        ProfileImage  \n",
       "0  https://pbs.twimg.com/profile_images/669793728...  \n",
       "1  https://abs.twimg.com/sticky/default_profile_i...  \n",
       "2  https://pbs.twimg.com/profile_images/158000019...  \n",
       "3  https://pbs.twimg.com/profile_images/158241748...  \n",
       "4  https://pbs.twimg.com/profile_images/139309733...  \n",
       "\n",
       "[5 rows x 21 columns]"
      ]
     },
     "execution_count": 2,
     "metadata": {},
     "output_type": "execute_result"
    }
   ],
   "source": [
    "df = pd.read_excel('dataset_FINAL_afterPreprocessing.xlsx')\n",
    "df.head()"
   ]
  },
  {
   "cell_type": "markdown",
   "metadata": {
    "id": "lhRmXcFK8fqp"
   },
   "source": [
    "## TF-IDF (Unigram)"
   ]
  },
  {
   "cell_type": "code",
   "execution_count": 3,
   "metadata": {
    "colab": {
     "base_uri": "https://localhost:8080/"
    },
    "id": "vqh2FRJee4WO",
    "outputId": "ba597316-db62-4c5b-a5dd-e70b152a17cd"
   },
   "outputs": [],
   "source": [
    "#N-GRAM RANGE IN SCENARIOS\n",
    "    #(1,1) unigram for Scenario I as baseline\n",
    "    #(2,2) bigram for Scenario II\n",
    "    #(3,3) trigram for Scenario II\n",
    "    #(1,2) unigram + bigram for Scenario III\n",
    "    #(1,3) unigram + bigram + trigram for Scenario III\n",
    "vectorizer = TfidfVectorizer(min_df=5, max_df=0.7, ngram_range = (1,1))\n",
    "tfidf = vectorizer.fit_transform(df['Text'])"
   ]
  },
  {
   "cell_type": "code",
   "execution_count": 4,
   "metadata": {},
   "outputs": [
    {
     "name": "stdout",
     "output_type": "stream",
     "text": [
      "  (0, 2261)\t0.22305820549488747\n",
      "  (0, 5243)\t0.2598021498601585\n",
      "  (0, 3840)\t0.31188373099678707\n",
      "  (0, 4983)\t0.3186187317742308\n",
      "  (0, 2146)\t0.3744426968873122\n",
      "  (0, 5331)\t0.42560680495467657\n",
      "  (0, 2063)\t0.3672159410711359\n",
      "  (0, 2334)\t0.4772446845579458\n",
      "  (1, 1033)\t0.14138668741255106\n",
      "  (1, 1960)\t0.17724450128146318\n",
      "  (1, 3535)\t0.10424240368854844\n",
      "  (1, 643)\t0.1540059301101828\n",
      "  (1, 2576)\t0.22679652655341853\n",
      "  (1, 4530)\t0.14389830555600003\n",
      "  (1, 5332)\t0.13981022127461284\n",
      "  (1, 5424)\t0.13936455045434912\n",
      "  (1, 2990)\t0.1299459039292147\n",
      "  (1, 1680)\t0.6582423293093788\n",
      "  (1, 5432)\t0.15353899676374766\n",
      "  (1, 2465)\t0.171332313813795\n",
      "  (1, 3955)\t0.22755766361444946\n",
      "  (1, 1571)\t0.22023697378653265\n",
      "  (1, 174)\t0.1502182325918884\n",
      "  (1, 891)\t0.14994894803246578\n",
      "  (1, 5110)\t0.17970905366012674\n",
      "  :\t:\n",
      "  (25323, 4326)\t0.21712382906874292\n",
      "  (25323, 23)\t0.2165582594867698\n",
      "  (25323, 4947)\t0.36233992608149984\n",
      "  (25323, 552)\t0.24499240041658168\n",
      "  (25324, 2827)\t0.2588620423319354\n",
      "  (25324, 4101)\t0.2121739557298209\n",
      "  (25324, 1409)\t0.17880210655251652\n",
      "  (25324, 881)\t0.14298020917546952\n",
      "  (25324, 4100)\t0.2605994908096426\n",
      "  (25324, 5468)\t0.2506641914123598\n",
      "  (25324, 446)\t0.2629006263813982\n",
      "  (25324, 3993)\t0.27292276397598775\n",
      "  (25324, 2090)\t0.2047282011494798\n",
      "  (25324, 4656)\t0.2545562306186375\n",
      "  (25324, 4828)\t0.22214090490505906\n",
      "  (25324, 229)\t0.26695759822330706\n",
      "  (25324, 3138)\t0.23928921711244058\n",
      "  (25324, 766)\t0.12058583503427643\n",
      "  (25324, 4951)\t0.2524142137251027\n",
      "  (25324, 2273)\t0.17109758794887955\n",
      "  (25324, 833)\t0.12223338380127888\n",
      "  (25324, 2209)\t0.1997195373926958\n",
      "  (25324, 4414)\t0.10022186513644736\n",
      "  (25324, 4947)\t0.20986013415052615\n",
      "  (25324, 643)\t0.2453228067651279\n"
     ]
    }
   ],
   "source": [
    "print(tfidf)"
   ]
  },
  {
   "cell_type": "markdown",
   "metadata": {},
   "source": [
    "## Splitting Dataset"
   ]
  },
  {
   "cell_type": "code",
   "execution_count": 5,
   "metadata": {
    "id": "TaEIibjJehoD"
   },
   "outputs": [],
   "source": [
    "#TEST SIZE IN SCENARIO I\n",
    "    #0.1 for 90% data train and 10% data test\n",
    "    #0.2 for 80% data train and 20% data test\n",
    "    #0.3 for 70% data train and 30% data test\n",
    "train_x, test_x, train_y, test_y = model_selection.train_test_split(tfidf, df['LabelFinal'] ,test_size=0.1)"
   ]
  },
  {
   "cell_type": "code",
   "execution_count": 6,
   "metadata": {},
   "outputs": [
    {
     "name": "stdout",
     "output_type": "stream",
     "text": [
      "(22792, 5657) (2533, 5657)\n",
      "(22792,) (2533,)\n"
     ]
    }
   ],
   "source": [
    "print(train_x.shape, test_x.shape)\n",
    "print(train_y.shape, test_y.shape)"
   ]
  },
  {
   "cell_type": "markdown",
   "metadata": {},
   "source": [
    "## Modelling (SVM)"
   ]
  },
  {
   "cell_type": "code",
   "execution_count": 7,
   "metadata": {
    "colab": {
     "base_uri": "https://localhost:8080/"
    },
    "id": "hByBs072fQ4P",
    "outputId": "d7c051cf-a523-4747-b77a-d60d9745575e"
   },
   "outputs": [
    {
     "data": {
      "text/plain": [
       "SVC(gamma='auto', kernel='linear')"
      ]
     },
     "execution_count": 7,
     "metadata": {},
     "output_type": "execute_result"
    }
   ],
   "source": [
    "classifier = SVC(C=1.0, kernel='linear', degree=3, gamma='auto')\n",
    "classifier.fit(train_x, train_y)"
   ]
  },
  {
   "cell_type": "code",
   "execution_count": 8,
   "metadata": {},
   "outputs": [],
   "source": [
    "predictions = classifier.predict(test_x)"
   ]
  },
  {
   "cell_type": "markdown",
   "metadata": {},
   "source": [
    "## Report"
   ]
  },
  {
   "cell_type": "code",
   "execution_count": 9,
   "metadata": {},
   "outputs": [
    {
     "data": {
      "image/png": "[encoded data removed]",
      "text/plain": [
       "<Figure size 640x480 with 2 Axes>"
      ]
     },
     "metadata": {},
     "output_type": "display_data"
    }
   ],
   "source": [
    "def plot_confussion_matrix(y_test, y_pred):\n",
    "    cm = confusion_matrix(y_test, y_pred)\n",
    "    df_cm = pd.DataFrame(cm, range(cm.shape[0]),\n",
    "                  range(cm.shape[1]))\n",
    "    sn.set(font_scale=1.4)\n",
    "    sn.heatmap(df_cm, annot=True,fmt='.0f',annot_kws={\"size\": 10})# font size\n",
    "    plt.show()\n",
    "\n",
    "plot_confussion_matrix(test_y, predictions)"
   ]
  },
  {
   "cell_type": "code",
   "execution_count": 10,
   "metadata": {},
   "outputs": [
    {
     "name": "stdout",
     "output_type": "stream",
     "text": [
      "              precision    recall  f1-score   support\n",
      "\n",
      "           0   0.959547  0.947284  0.953376      1252\n",
      "           1   0.949113  0.960968  0.955004      1281\n",
      "\n",
      "    accuracy                       0.954205      2533\n",
      "   macro avg   0.954330  0.954126  0.954190      2533\n",
      "weighted avg   0.954270  0.954205  0.954199      2533\n",
      "\n"
     ]
    }
   ],
   "source": [
    "print(classification_report(test_y, predictions, digits=6))"
   ]
  },
  {
   "cell_type": "code",
   "execution_count": null,
   "metadata": {},
   "outputs": [],
   "source": []
  }
 ],
 "metadata": {
  "colab": {
   "provenance": []
  },
  "kernelspec": {
   "display_name": "Python 3 (ipykernel)",
   "language": "python",
   "name": "python3"
  },
  "language_info": {
   "codemirror_mode": {
    "name": "ipython",
    "version": 3
   },
   "file_extension": ".py",
   "mimetype": "text/x-python",
   "name": "python",
   "nbconvert_exporter": "python",
   "pygments_lexer": "ipython3",
   "version": "3.9.13"
  }
 },
 "nbformat": 4,
 "nbformat_minor": 1
}
